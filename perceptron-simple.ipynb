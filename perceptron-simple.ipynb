{
 "cells": [
  {
   "attachments": {},
   "cell_type": "markdown",
   "metadata": {},
   "source": [
    "## Perceptron simple"
   ]
  },
  {
   "cell_type": "code",
   "execution_count": 51,
   "metadata": {},
   "outputs": [],
   "source": [
    "import numpy as np\n",
    "import matplotlib.pyplot as plt\n",
    "import math\n",
    "import pandas as pd"
   ]
  },
  {
   "attachments": {},
   "cell_type": "markdown",
   "metadata": {},
   "source": [
    "Dataset"
   ]
  },
  {
   "cell_type": "code",
   "execution_count": 52,
   "metadata": {},
   "outputs": [],
   "source": [
    "# IRIS 2 especies\n",
    "# columnas = [largo de petalo, ancho de petalo], 0 = versicolor, 1 = virginica\n",
    "iris = np.array([[4, 1.3, 0], [4, 1.3, 0], [4.5, 1.5, 0], [5.6, 2.1, 1], [5.9, 2.1, 1], [5.4, 2.1, 1]]) \n",
    "\n",
    "# AND\n",
    "and_gate = np.array([[1, 1, 1], [0, 1, 0], [1, 0, 0], [0, 0, 0]])\n",
    "\n",
    "# XOR:\n",
    "xor_gate = np.array([[0, 0, 0], [0, 1, 1], [1, 0, 1], [1, 1, 0]])\n",
    "\n",
    "# NOT\n",
    "not_gate = np.array([[0, 1], [1, 0]])"
   ]
  },
  {
   "attachments": {},
   "cell_type": "markdown",
   "metadata": {},
   "source": [
    "Funcion de Activacion"
   ]
  },
  {
   "cell_type": "code",
   "execution_count": 53,
   "metadata": {},
   "outputs": [],
   "source": [
    "def sigmoide(x):\n",
    "  return 1/(1+np.exp(-x))"
   ]
  },
  {
   "attachments": {},
   "cell_type": "markdown",
   "metadata": {},
   "source": [
    "### Visualizacion del proceso de la logica y el ajuste que realiza el perceptron (entrenamiento)"
   ]
  },
  {
   "cell_type": "code",
   "execution_count": 54,
   "metadata": {},
   "outputs": [
    {
     "name": "stdout",
     "output_type": "stream",
     "text": [
      "input = [4.5 1.5], out = [0.0], pesos iniciales = [ 0.31695554 -0.34219756], b = 0 alfa = 0.1, iter = 100\n",
      "Viendo las primeras 3 iteraciones:\n",
      "--------------------------------------------------------------------------------\n",
      "Iter 1 :\n",
      "y = Sig( W*X ) = Sig( 0.317*4.5 + -0.342*1.5 ) = 0.714\n",
      "error = Y - y = 0.0 - 0.714 = -0.714\n",
      "\n",
      "w1 = w1 + alfa*error*x1 = 0.317 + 0.1*-0.714*4.5 = -0.004\n",
      "w2 = w2 + alfa*error*x2 = -0.342 + 0.1*-0.714*1.5 = -0.449\n",
      "b = b + alfa*error = 0 + 0.1*-0.714 = -0.071\n",
      "--------------------------------------------------------------------------------\n",
      "Iter 2 :\n",
      "y = Sig( W*X ) = Sig( -0.004*4.5 + -0.449*1.5 ) = 0.318\n",
      "error = Y - y = 0.0 - 0.318 = -0.318\n",
      "\n",
      "w1 = w1 + alfa*error*x1 = -0.004 + 0.1*-0.318*4.5 = -0.147\n",
      "w2 = w2 + alfa*error*x2 = -0.449 + 0.1*-0.318*1.5 = -0.497\n",
      "b = b + alfa*error = -0.0713614393536169 + 0.1*-0.318 = -0.103\n",
      "--------------------------------------------------------------------------------\n",
      "Iter 3 :\n",
      "y = Sig( W*X ) = Sig( -0.147*4.5 + -0.497*1.5 ) = 0.181\n",
      "error = Y - y = 0.0 - 0.181 = -0.181\n",
      "\n",
      "w1 = w1 + alfa*error*x1 = -0.147 + 0.1*-0.181*4.5 = -0.229\n",
      "w2 = w2 + alfa*error*x2 = -0.497 + 0.1*-0.181*1.5 = -0.524\n",
      "b = b + alfa*error = -0.10313949607858215 + 0.1*-0.181 = -0.121\n",
      "================================================================================\n",
      "Pesos finales: W = [-0.90369848 -0.74908224], b = -0.2712564489755132\n"
     ]
    }
   ],
   "source": [
    "# dataset IRIS CON DOS ESPECIES (solo un dato por fines practicos)\n",
    "X, Y = iris[2][:2], iris[2][2]\n",
    "\n",
    "# Iniciando hiperparametros: variables necesarias para el entrenamiento\n",
    "iter, alfa = 100, 0.1\n",
    "\n",
    "# inicializar los valores aleatorios\n",
    "W, b = np.random.randn(2), 0\n",
    "# W, b = [0.3, -0.5], 0\n",
    "\n",
    "# registro de errores\n",
    "error_array = []\n",
    "\n",
    "print(f'input = {X}, out = [{Y}], pesos iniciales = {W}, b = {b} alfa = {alfa}, iter = {iter}')\n",
    "print(\"Viendo las primeras 3 iteraciones:\")\n",
    "# iterar pesos\n",
    "for i in range(iter):\n",
    "  # calcular el output y error\n",
    "  y = sigmoide(sum([W[i]*x for i, x in enumerate(X)]) + b)\n",
    "  e = Y - y\n",
    "\n",
    "  # guardar pesos antes de actualizar\n",
    "  W_old = W\n",
    "  b_old = b\n",
    "\n",
    "  # actualizar pesos\n",
    "  W = np.array([w + alfa*e*X[i] for i, w in enumerate(W)])\n",
    "  b = b + alfa*e\n",
    "\n",
    "  if i < 3:\n",
    "    print('-'*80)\n",
    "    print(f'Iter {i+1} :')\n",
    "\n",
    "    # PROPAGACION\n",
    "    text = ' + '.join([f'{round(w, 3)}*{round(x, 3)}' for w, x in zip(W_old, X)])\n",
    "    print(f'y = Sig( W*X ) = Sig( {text} ) = {round(y, 3)}')\n",
    "    print(f'error = Y - y = {Y} - {round(y, 3)} = {round(e, 3)}')\n",
    "\n",
    "    # RETROPROPAGACION\n",
    "    print(f'\\nw1 = w1 + alfa*error*x1 = {round(W_old[0], 3)} + {alfa}*{round(e, 3)}*{X[0]} = {round(W[0], 3)}')\n",
    "    print(f'w2 = w2 + alfa*error*x2 = {round(W_old[1], 3)} + {alfa}*{round(e, 3)}*{X[1]} = {round(W[1], 3)}')\n",
    "    print(f'b = b + alfa*error = {b_old} + {alfa}*{round(e, 3)} = {round(b, 3)}')\n",
    "\n",
    "  # guardar error historico\n",
    "  error_array.append(e)\n",
    "\n",
    "print('='*80)\n",
    "print(f'Pesos finales: W = {W}, b = {b}')"
   ]
  },
  {
   "cell_type": "code",
   "execution_count": 55,
   "metadata": {},
   "outputs": [
    {
     "data": {
      "text/plain": [
       "0.5010572787197592"
      ]
     },
     "execution_count": 55,
     "metadata": {},
     "output_type": "execute_result"
    }
   ],
   "source": [
    "# prediccion\n",
    "dato = [4.6, 1.4] # salida esperada -> 0\n",
    "sigmoide(sigmoide(sum([W[i]*x for i, x in enumerate(X)]) + b ))"
   ]
  },
  {
   "attachments": {},
   "cell_type": "markdown",
   "metadata": {},
   "source": [
    "### Implementacion del perceptron"
   ]
  },
  {
   "cell_type": "code",
   "execution_count": 56,
   "metadata": {},
   "outputs": [],
   "source": [
    "class Perceptron:\n",
    "  # constructor\n",
    "  def __init__(self, n_w):\n",
    "    self.W = np.random.randn(n_w)\n",
    "    self.b = np.random.randn()\n",
    "    self.n = n_w\n",
    "    self.errores = []\n",
    "  \n",
    "  # metodo de entrenamiento\n",
    "  def fit(self, X, epoch, alfa, funcAct):\n",
    "    self.funcAct = funcAct\n",
    "    for i in range(epoch):\n",
    "      for i, x in enumerate(X):\n",
    "        # propagacion\n",
    "        self.y = funcAct(self.W.dot(x[0:self.n]) + self.b)\n",
    "        error = x[-1] - self.y\n",
    "        self.errores.append(error)\n",
    "\n",
    "        # retropropagacion\n",
    "        self.W = np.array([w + alfa*error*x[i] for i, w in enumerate(self.W)])\n",
    "        self.b = self.b + alfa*error\n",
    "    \n",
    "    return self.W, self.b\n",
    "\n",
    "  # metodo de prediccion\n",
    "  def prediction(self, X):\n",
    "    return self.funcAct(self.W.dot(X) + self.b)\n"
   ]
  },
  {
   "attachments": {},
   "cell_type": "markdown",
   "metadata": {},
   "source": [
    "#### Entrenamiento para resolver COMPUERTA AND"
   ]
  },
  {
   "cell_type": "code",
   "execution_count": 57,
   "metadata": {},
   "outputs": [
    {
     "data": {
      "text/plain": [
       "(array([5.59484903, 5.58876012]), -8.57307235706565)"
      ]
     },
     "execution_count": 57,
     "metadata": {},
     "output_type": "execute_result"
    }
   ],
   "source": [
    "# creacion del modelo y entrenamiento\n",
    "perceptron_and = Perceptron(2)\n",
    "perceptron_and.fit(and_gate, epoch=1000, alfa=0.1, funcAct=sigmoide)"
   ]
  },
  {
   "cell_type": "markdown",
   "metadata": {},
   "source": [
    "visualizacion del error"
   ]
  },
  {
   "cell_type": "code",
   "execution_count": 58,
   "metadata": {},
   "outputs": [
    {
     "name": "stdout",
     "output_type": "stream",
     "text": [
      "Error final: -0.00018909849074430504\n"
     ]
    },
    {
     "data": {
      "image/png": "[encoded data removed]",
      "text/plain": [
       "<Figure size 640x480 with 1 Axes>"
      ]
     },
     "metadata": {},
     "output_type": "display_data"
    }
   ],
   "source": [
    "# grafica de del error\n",
    "plt.xlabel('# epoca')\n",
    "plt.ylabel('error')\n",
    "plt.plot(perceptron_and.errores)\n",
    "print('Error final:', perceptron_and.errores[-1])"
   ]
  },
  {
   "attachments": {},
   "cell_type": "markdown",
   "metadata": {},
   "source": [
    "prediccion"
   ]
  },
  {
   "cell_type": "code",
   "execution_count": 59,
   "metadata": {},
   "outputs": [
    {
     "name": "stdout",
     "output_type": "stream",
     "text": [
      "0.00018909491563035743\n",
      "0.048419423159159744\n",
      "0.04813964715966028\n",
      "0.9315366389200058\n"
     ]
    }
   ],
   "source": [
    "print(perceptron_and.prediction([0, 0])) # valor esperado 0\n",
    "print(perceptron_and.prediction([1, 0])) # valor esperado 0\n",
    "print(perceptron_and.prediction([0, 1])) # valor esperado 0\n",
    "print(perceptron_and.prediction([1, 1])) # valor esperado 1"
   ]
  },
  {
   "attachments": {},
   "cell_type": "markdown",
   "metadata": {},
   "source": [
    "#### Entrenamiento para predecir ESPECIES DE FLORES - IRIS"
   ]
  },
  {
   "cell_type": "code",
   "execution_count": 60,
   "metadata": {},
   "outputs": [
    {
     "data": {
      "text/html": [
       "<div>\n",
       "<style scoped>\n",
       "    .dataframe tbody tr th:only-of-type {\n",
       "        vertical-align: middle;\n",
       "    }\n",
       "\n",
       "    .dataframe tbody tr th {\n",
       "        vertical-align: top;\n",
       "    }\n",
       "\n",
       "    .dataframe thead th {\n",
       "        text-align: right;\n",
       "    }\n",
       "</style>\n",
       "<table border=\"1\" class=\"dataframe\">\n",
       "  <thead>\n",
       "    <tr style=\"text-align: right;\">\n",
       "      <th></th>\n",
       "      <th>PetalLengthCm</th>\n",
       "      <th>PetalWidthCm</th>\n",
       "      <th>Species</th>\n",
       "    </tr>\n",
       "  </thead>\n",
       "  <tbody>\n",
       "    <tr>\n",
       "      <th>50</th>\n",
       "      <td>4.7</td>\n",
       "      <td>1.4</td>\n",
       "      <td>0</td>\n",
       "    </tr>\n",
       "    <tr>\n",
       "      <th>51</th>\n",
       "      <td>4.5</td>\n",
       "      <td>1.5</td>\n",
       "      <td>0</td>\n",
       "    </tr>\n",
       "    <tr>\n",
       "      <th>52</th>\n",
       "      <td>4.9</td>\n",
       "      <td>1.5</td>\n",
       "      <td>0</td>\n",
       "    </tr>\n",
       "    <tr>\n",
       "      <th>53</th>\n",
       "      <td>4.0</td>\n",
       "      <td>1.3</td>\n",
       "      <td>0</td>\n",
       "    </tr>\n",
       "    <tr>\n",
       "      <th>54</th>\n",
       "      <td>4.6</td>\n",
       "      <td>1.5</td>\n",
       "      <td>0</td>\n",
       "    </tr>\n",
       "    <tr>\n",
       "      <th>...</th>\n",
       "      <td>...</td>\n",
       "      <td>...</td>\n",
       "      <td>...</td>\n",
       "    </tr>\n",
       "    <tr>\n",
       "      <th>145</th>\n",
       "      <td>5.2</td>\n",
       "      <td>2.3</td>\n",
       "      <td>1</td>\n",
       "    </tr>\n",
       "    <tr>\n",
       "      <th>146</th>\n",
       "      <td>5.0</td>\n",
       "      <td>1.9</td>\n",
       "      <td>1</td>\n",
       "    </tr>\n",
       "    <tr>\n",
       "      <th>147</th>\n",
       "      <td>5.2</td>\n",
       "      <td>2.0</td>\n",
       "      <td>1</td>\n",
       "    </tr>\n",
       "    <tr>\n",
       "      <th>148</th>\n",
       "      <td>5.4</td>\n",
       "      <td>2.3</td>\n",
       "      <td>1</td>\n",
       "    </tr>\n",
       "    <tr>\n",
       "      <th>149</th>\n",
       "      <td>5.1</td>\n",
       "      <td>1.8</td>\n",
       "      <td>1</td>\n",
       "    </tr>\n",
       "  </tbody>\n",
       "</table>\n",
       "<p>100 rows × 3 columns</p>\n",
       "</div>"
      ],
      "text/plain": [
       "     PetalLengthCm  PetalWidthCm  Species\n",
       "50             4.7           1.4        0\n",
       "51             4.5           1.5        0\n",
       "52             4.9           1.5        0\n",
       "53             4.0           1.3        0\n",
       "54             4.6           1.5        0\n",
       "..             ...           ...      ...\n",
       "145            5.2           2.3        1\n",
       "146            5.0           1.9        1\n",
       "147            5.2           2.0        1\n",
       "148            5.4           2.3        1\n",
       "149            5.1           1.8        1\n",
       "\n",
       "[100 rows x 3 columns]"
      ]
     },
     "execution_count": 60,
     "metadata": {},
     "output_type": "execute_result"
    }
   ],
   "source": [
    "# leer el archivo .csv y seleccionar las 2 ultimas columnas\n",
    "iris_df = pd.read_csv('dataset/Iris.csv')\n",
    "iris_df = iris_df[iris_df['Species'] != 'Iris-setosa' ][['PetalLengthCm', 'PetalWidthCm', 'Species']]\n",
    "\n",
    "# normalizar el tag: Iris-versicolor y Iris-virginica a 0 y 1 respectivamente\n",
    "iris_df['Species'] = iris_df['Species'].apply(lambda specie: 0 if specie=='Iris-versicolor' else 1)\n",
    "iris_df"
   ]
  },
  {
   "cell_type": "code",
   "execution_count": 61,
   "metadata": {},
   "outputs": [
    {
     "name": "stdout",
     "output_type": "stream",
     "text": [
      "iris train :  (90, 3)\n",
      "iris test : \n",
      "[[4.1 1.  0. ]\n",
      " [4.5 1.5 0. ]\n",
      " [4.7 1.4 0. ]\n",
      " [5.5 1.8 1. ]\n",
      " [4.9 1.8 1. ]\n",
      " [4.8 1.8 1. ]\n",
      " [5.  2.  1. ]\n",
      " [4.1 1.3 0. ]\n",
      " [3.9 1.2 0. ]\n",
      " [4.7 1.5 0. ]]\n"
     ]
    }
   ],
   "source": [
    "# convertir el dataframe a un arreglo para el entrenamiento\n",
    "iris_arr = iris_df.to_numpy(dtype=float)\n",
    "\n",
    "# separamos el dataset en dos grupos para entrenamiento y el de testeo de 5 filas\n",
    "n = 10\n",
    "indices = np.random.choice(iris_arr.shape[0], n, replace=False)\n",
    "iris_arr_test = iris_arr[indices, :]\n",
    "iris_arr_train = np.delete(iris_arr, indices, axis=0)\n",
    "\n",
    "# imprimimos las dimensiones\n",
    "print('iris train : ', iris_arr_train.shape)\n",
    "print('iris test : ')\n",
    "print(iris_arr_test)"
   ]
  },
  {
   "cell_type": "code",
   "execution_count": 62,
   "metadata": {},
   "outputs": [
    {
     "data": {
      "text/plain": [
       "(array([ 2.25043357, 12.00862939]), -27.0104179510881)"
      ]
     },
     "execution_count": 62,
     "metadata": {},
     "output_type": "execute_result"
    }
   ],
   "source": [
    "# creacion del modelo y entrenamiento\n",
    "perceptron_iris = Perceptron(2)\n",
    "perceptron_iris.fit(iris_arr_train, epoch=1000, alfa=0.1, funcAct=sigmoide)"
   ]
  },
  {
   "cell_type": "code",
   "execution_count": 63,
   "metadata": {},
   "outputs": [
    {
     "name": "stdout",
     "output_type": "stream",
     "text": [
      "Error final: 0.0022934810432495567\n"
     ]
    },
    {
     "data": {
      "image/png": "[encoded data removed]",
      "text/plain": [
       "<Figure size 640x480 with 1 Axes>"
      ]
     },
     "metadata": {},
     "output_type": "display_data"
    }
   ],
   "source": [
    "# grafica de del error\n",
    "plt.xlabel('# epoca')\n",
    "plt.ylabel('error')\n",
    "plt.plot(perceptron_iris.errores)\n",
    "print('Error final:', perceptron_iris.errores[-1])"
   ]
  },
  {
   "attachments": {},
   "cell_type": "markdown",
   "metadata": {},
   "source": [
    "Predicciones"
   ]
  },
  {
   "cell_type": "code",
   "execution_count": 64,
   "metadata": {},
   "outputs": [
    {
     "name": "stdout",
     "output_type": "stream",
     "text": [
      "dato\t\tesperado\tprediccion\t\terror\n",
      "[4.1 1. ] \t0.0 \t\t0.003094557773637116 \t\n",
      "[4.5 1.5] \t0.0 \t\t0.7557424077737568 \tx\n",
      "[4.7 1.4] \t0.0 \t\t0.5935597590672963 \tx\n",
      "[5.5 1.8] \t1.0 \t\t0.9990728796319643 \t\n",
      "[4.9 1.8] \t1.0 \t\t0.9964322267340779 \t\n",
      "[4.8 1.8] \t1.0 \t\t0.9955358224206661 \t\n",
      "[5. 2.] \t1.0 \t\t0.9997411514916996 \t\n",
      "[4.1 1.3] \t0.0 \t\t0.10225447455752953 \t\n",
      "[3.9 1.2] \t0.0 \t\t0.021386607669412513 \t\n",
      "[4.7 1.5] \t0.0 \t\t0.8291427506749466 \tx\n"
     ]
    }
   ],
   "source": [
    "print('dato\\t\\tesperado\\tprediccion\\t\\terror')\n",
    "for row in iris_arr_test:\n",
    "    tmp = perceptron_iris.prediction(row[:2])\n",
    "    err = 'x' if abs(tmp-row[-1]) > 0.4 else ''\n",
    "    print(f'{row[:2]} \\t{row[-1]} \\t\\t{tmp} \\t{err}') "
   ]
  },
  {
   "attachments": {},
   "cell_type": "markdown",
   "metadata": {},
   "source": [
    "Los resultados varian segun los ejemplos que le toque predecir, en este caso son aleatorios asi que puede q aveces tenga de 1 a 0 errores y en otros hasta 5 errores"
   ]
  }
 ],
 "metadata": {
  "kernelspec": {
   "display_name": "Python 3",
   "language": "python",
   "name": "python3"
  },
  "language_info": {
   "codemirror_mode": {
    "name": "ipython",
    "version": 3
   },
   "file_extension": ".py",
   "mimetype": "text/x-python",
   "name": "python",
   "nbconvert_exporter": "python",
   "pygments_lexer": "ipython3",
   "version": "3.10.9"
  },
  "orig_nbformat": 4
 },
 "nbformat": 4,
 "nbformat_minor": 2
}
