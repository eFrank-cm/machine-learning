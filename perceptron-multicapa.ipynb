{
 "cells": [
  {
   "cell_type": "code",
   "execution_count": 5,
   "metadata": {},
   "outputs": [],
   "source": [
    "import numpy as np\n",
    "np.random.seed(42)"
   ]
  },
  {
   "attachments": {},
   "cell_type": "markdown",
   "metadata": {},
   "source": [
    "dataset"
   ]
  },
  {
   "cell_type": "code",
   "execution_count": 6,
   "metadata": {},
   "outputs": [],
   "source": [
    "# XOR:\n",
    "xor_gate = np.array([[0, 0, 0], [0, 1, 1], [1, 0, 1], [1, 1, 0]])\n",
    "\n",
    "# AND\n",
    "and_gate = np.array([[1, 1, 1], [0, 1, 0], [1, 0, 0], [0, 0, 0]])\n",
    "\n",
    "# IRIS 3 especies\n",
    "# columnas = [largo de sepalo, ancho de petalo] 0=setosa , 1=versicolor, 2 = virginica\n",
    "iris = np.array([[4.7, 0.2, 0], [4.6, 0.2, 0], [7, 1.4, 1], [6.4, 1.5, 1], [6.3, 1.8, 2], [6.5, 2.2, 2]])\n",
    "\n",
    "# creamos una entrada\n",
    "X = np.array([[0], [1]])\n",
    "Y = np.array([[1]])"
   ]
  },
  {
   "attachments": {},
   "cell_type": "markdown",
   "metadata": {},
   "source": [
    "funciones"
   ]
  },
  {
   "cell_type": "code",
   "execution_count": 7,
   "metadata": {},
   "outputs": [],
   "source": [
    "def sigmoid(x, derived=False):\n",
    "  if derived:\n",
    "    return sigmoid(x)*(1 - sigmoid(x))\n",
    "  else:\n",
    "    return 1/(1+np.exp(-x))\n",
    "  \n",
    "def relu(x, derived=False):\n",
    "  if derived:\n",
    "    return 0 if x <= 0 else x\n",
    "  else:\n",
    "    return np.maximum(0, x)\n",
    "\n",
    "def MSE(y_true, y_pred, derived=False):\n",
    "  if derived:\n",
    "    return y_pred - y_true\n",
    "  else:\n",
    "    return np.square(y_true - y_pred).sum()/2"
   ]
  },
  {
   "attachments": {},
   "cell_type": "markdown",
   "metadata": {},
   "source": [
    "# Paso a paso"
   ]
  },
  {
   "attachments": {},
   "cell_type": "markdown",
   "metadata": {},
   "source": [
    "Perceptron multicapa"
   ]
  },
  {
   "cell_type": "code",
   "execution_count": 8,
   "metadata": {},
   "outputs": [],
   "source": [
    "# tamaño de las capas\n",
    "n_input, n_hidden, n_out = 2, 2, 1\n",
    "\n",
    "# coeficiente de aprendizaje\n",
    "alfa = 0.25\n",
    "\n",
    "# inicializar pesos random dentro del rango de una distribucion normal\n",
    "w_hidden = np.random.rand(2, 2)\n",
    "b_hidden = np.random.rand(2, 1)\n",
    "w_out = np.random.rand(1, 2)\n",
    "b_out = np.random.rand(1, 1)\n",
    "\n",
    "# guardar error\n",
    "error = []"
   ]
  },
  {
   "attachments": {},
   "cell_type": "markdown",
   "metadata": {},
   "source": [
    "Propagar"
   ]
  },
  {
   "cell_type": "code",
   "execution_count": 9,
   "metadata": {},
   "outputs": [
    {
     "data": {
      "text/plain": [
       "array([[0.75151953],\n",
       "       [0.68019172]])"
      ]
     },
     "execution_count": 9,
     "metadata": {},
     "output_type": "execute_result"
    }
   ],
   "source": [
    "# operar en la capa oculta\n",
    "sum_hidden = w_hidden.dot(X) + b_hidden\n",
    "out_hidden = sigmoid(sum_hidden)\n",
    "out_hidden"
   ]
  },
  {
   "cell_type": "code",
   "execution_count": 10,
   "metadata": {},
   "outputs": [
    {
     "data": {
      "text/plain": [
       "array([[0.77450599]])"
      ]
     },
     "execution_count": 10,
     "metadata": {},
     "output_type": "execute_result"
    }
   ],
   "source": [
    "# operar en la capa de salida\n",
    "sum_out = w_out.dot(out_hidden) + b_out\n",
    "out_out = sigmoid(sum_out)\n",
    "out_out"
   ]
  },
  {
   "attachments": {},
   "cell_type": "markdown",
   "metadata": {},
   "source": [
    "Calcular el ERROR de la red neuronal"
   ]
  },
  {
   "cell_type": "code",
   "execution_count": 11,
   "metadata": {},
   "outputs": [
    {
     "data": {
      "text/plain": [
       "0.025423773331154486"
      ]
     },
     "execution_count": 11,
     "metadata": {},
     "output_type": "execute_result"
    }
   ],
   "source": [
    "error.append(MSE(Y, out_out))\n",
    "MSE(Y, out_out)"
   ]
  },
  {
   "attachments": {},
   "cell_type": "markdown",
   "metadata": {},
   "source": [
    "Retropropagamos"
   ]
  },
  {
   "cell_type": "code",
   "execution_count": 12,
   "metadata": {},
   "outputs": [
    {
     "name": "stdout",
     "output_type": "stream",
     "text": [
      "[[-0.03938173]]\n"
     ]
    },
    {
     "data": {
      "text/plain": [
       "(array([[0.06548265, 0.87287293]]), array([[0.61096044]]))"
      ]
     },
     "execution_count": 12,
     "metadata": {},
     "output_type": "execute_result"
    }
   ],
   "source": [
    "# operamos en la capa de salida OUT\n",
    "\n",
    "# calculamos el error inputado a cada neurona\n",
    "dC_da_out = MSE(Y, out_out, derived=True)\n",
    "dA_dz_out = sigmoid(sum_out, derived=True)\n",
    "delta_out = dC_da_out * dA_dz_out\n",
    "print(delta_out)\n",
    "\n",
    "# calculamos el error inputado a cada parametro\n",
    "dZ_dw_out = out_hidden\n",
    "dC_dw_out = delta_out.dot(dZ_dw_out.T)\n",
    "\n",
    "dZ_db_out = 1\n",
    "dC_db_out = delta_out # delta x 1 = delta\n",
    "\n",
    "# actualizamos el valor de los pesos\n",
    "w_out_new = w_out - alfa * dC_dw_out\n",
    "b_out_new = b_out - alfa * dC_db_out\n",
    "w_out_new, b_out_new"
   ]
  },
  {
   "cell_type": "code",
   "execution_count": 13,
   "metadata": {},
   "outputs": [
    {
     "name": "stdout",
     "output_type": "stream",
     "text": [
      "[[-0.00042715]\n",
      " [-0.00742031]]\n"
     ]
    },
    {
     "data": {
      "text/plain": [
       "(array([[0.37454012, 0.95082109],\n",
       "        [0.73199394, 0.60051356]]),\n",
       " array([[0.15612543],\n",
       "        [0.1578496 ]]))"
      ]
     },
     "execution_count": 13,
     "metadata": {},
     "output_type": "execute_result"
    }
   ],
   "source": [
    "# operamos en la capa oculta HIDDEN\n",
    "\n",
    "# retropropagamos el error calculado en la capa de salida\n",
    "delta_hidden = w_out.T.dot(delta_out) * sigmoid(sum_hidden, derived=True)\n",
    "print(delta_hidden)\n",
    "\n",
    "# calculamos el error inputado a cada parametro\n",
    "dZ_dw_hidden = X\n",
    "dC_dw_hidden = delta_hidden.dot(dZ_dw_hidden.T)\n",
    "\n",
    "dZ_db_hidden = 1\n",
    "dC_db_hidden = delta_hidden\n",
    "\n",
    "# # actualizamos el valor de los pesos\n",
    "w_hidden_new = w_hidden - alfa * dC_dw_hidden\n",
    "b_hidden_new = b_hidden - alfa * dC_db_hidden\n",
    "w_hidden_new, b_hidden_new"
   ]
  },
  {
   "attachments": {},
   "cell_type": "markdown",
   "metadata": {},
   "source": [
    "PROPAGAR y Calcular ERROR"
   ]
  },
  {
   "cell_type": "code",
   "execution_count": 14,
   "metadata": {},
   "outputs": [
    {
     "name": "stdout",
     "output_type": "stream",
     "text": [
      "[[0.64814831]]\n"
     ]
    }
   ],
   "source": [
    "# operar en la capa oculta\n",
    "sum_hidden_new = w_hidden_new.dot(X)\n",
    "out_hidden_new = sigmoid(sum_hidden_new)\n",
    "\n",
    "# operar en la capa de salida\n",
    "sum_out_new = w_out_new.dot(out_hidden_new)\n",
    "out_out_new = sigmoid(sum_out_new)\n",
    "print(out_out_new)\n",
    "\n",
    "# calcular error\n",
    "error.append(MSE(Y, out_out_new))"
   ]
  },
  {
   "cell_type": "code",
   "execution_count": 15,
   "metadata": {},
   "outputs": [
    {
     "data": {
      "text/plain": [
       "[0.025423773331154486, 0.061899805065811705]"
      ]
     },
     "execution_count": 15,
     "metadata": {},
     "output_type": "execute_result"
    }
   ],
   "source": [
    "# el error disminuye\n",
    "error"
   ]
  },
  {
   "attachments": {},
   "cell_type": "markdown",
   "metadata": {},
   "source": [
    "# Implementacion"
   ]
  },
  {
   "cell_type": "code",
   "execution_count": null,
   "metadata": {},
   "outputs": [],
   "source": [
    "# def __init__(self, layers):\n",
    "#     self.layers = layers\n",
    "#     self.errores = []\n",
    "#     # pesos iniciales W\n",
    "#     if layers == [2, 3, 3]:\n",
    "#         self.W = [np.array([[0.1, 0.8], [0.7, 0.9], [0.5, 0.3]]), \n",
    "#                   np.array([[0.3, 0.7, 0.5], [0.5, 0.1, 0.5], [0.2, 0.8, 0.9]])]\n",
    "#         self.b = [np.array([[0.4], [0.5], [0.8]]), np.array([[0.5], [0.9], [0.7]])]\n",
    "#     else:\n",
    "#         self.W = []\n",
    "#         self.b = []\n",
    "#         for i in range(len(layers)-1):\n",
    "#             self.W.append(np.random.normal(0, 0.1, size=(layers[i+1], layers[i])))\n",
    "#             self.b.append(np.random.normal(0, 0.1, size=(layers[i+1], 1)))"
   ]
  },
  {
   "cell_type": "code",
   "execution_count": 21,
   "metadata": {},
   "outputs": [],
   "source": [
    "class RNA:\n",
    "    # constructor\n",
    "    def __init__(self, layers):\n",
    "        self.layers = layers\n",
    "        self.errores = []\n",
    "        self.W, self.b = [], []\n",
    "        for i in range(len(layers)-1):\n",
    "            self.W.append(np.random.normal(0, 0.1, size=(layers[i+1], layers[i])))\n",
    "            self.b.append(np.random.normal(0, 0.1, size=(layers[i+1], 1)))\n",
    "    \n",
    "    def propagar(self, X):\n",
    "        Sum = [np.array([]) for _ in range(len(self.layers)-1)]\n",
    "        Out = [np.array([]) for _ in range(len(self.layers)-1)]\n",
    "        for i in range(len(self.layers)-1):\n",
    "            input = X if i == 0 else Out[i-1]\n",
    "            Sum[i] = self.W[i].dot(input) + self.b[i]\n",
    "            Out[i] = sigmoid(Sum[i])\n",
    "        return Sum, Out\n",
    "    \n",
    "    def retropropagacion(self, X, Y, alfa, Sum, Out):\n",
    "        delta = [np.array([]) for _ in range(len(self.layers) - 1)]\n",
    "        W_old = self.W.copy()\n",
    "        for i in range(len(self.layers)-1):\n",
    "            j = (i+1)*(-1) # itera -1, -2, ...\n",
    "            if j == -1:\n",
    "                delta[j] = MSE(Y, Out[j], derived=True) * sigmoid(Sum[j], derived=True)\n",
    "            else:\n",
    "                delta[j] = W_old[j+1].T.dot(delta[j+1]) * sigmoid(Sum[j], derived=True)\n",
    "\n",
    "            # si esta en la primera capa oculta la dZ_dw es el input X\n",
    "            dZ_dw = X if i == len(self.layers)-2 else Out[j-1]\n",
    "\n",
    "            # acualizar los pesos y sesgos\n",
    "            self.W[j] = self.W[j] - alfa * delta[j].dot(dZ_dw.T)\n",
    "            self.b[j] = self.b[j] - alfa * delta[j]\n",
    "\n",
    "    def fit(self, X, Y, alfa, epoch):\n",
    "        for _ in range(epoch):\n",
    "            for x, y in zip(X, Y):\n",
    "                Sum, Out = self.propagar(x)\n",
    "                self.errores.append(MSE(y, Out[-1]))\n",
    "                self.retropropagacion(x, y, alfa, Sum, Out)\n",
    "\n",
    "    def prediction(self, X):\n",
    "        _, Out = self.propagar(X)\n",
    "        return Out[-1]\n",
    "   "
   ]
  },
  {
   "cell_type": "code",
   "execution_count": 22,
   "metadata": {},
   "outputs": [],
   "source": [
    "salidas = [row[-1].reshape((1, 1)) for row in xor_gate]\n",
    "entradas = [row[:-1].reshape((2, 1)) for row in xor_gate]"
   ]
  },
  {
   "cell_type": "code",
   "execution_count": 23,
   "metadata": {},
   "outputs": [],
   "source": [
    "rna = RNA([2, 2, 1])\n",
    "rna.fit(entradas[1:2], salidas[1:2], 0.01, 10)"
   ]
  },
  {
   "cell_type": "code",
   "execution_count": 24,
   "metadata": {},
   "outputs": [
    {
     "data": {
      "text/plain": [
       "[0.13458878043789332,\n",
       " 0.13434857100374148,\n",
       " 0.13410876180789685,\n",
       " 0.133869353020294,\n",
       " 0.13363034480453856]"
      ]
     },
     "execution_count": 24,
     "metadata": {},
     "output_type": "execute_result"
    }
   ],
   "source": [
    "rna.errores[-5:]"
   ]
  },
  {
   "cell_type": "code",
   "execution_count": 309,
   "metadata": {},
   "outputs": [
    {
     "data": {
      "text/plain": [
       "array([[0.50191213]])"
      ]
     },
     "execution_count": 309,
     "metadata": {},
     "output_type": "execute_result"
    }
   ],
   "source": [
    "rna.prediction(X)"
   ]
  }
 ],
 "metadata": {
  "kernelspec": {
   "display_name": "Python 3",
   "language": "python",
   "name": "python3"
  },
  "language_info": {
   "codemirror_mode": {
    "name": "ipython",
    "version": 3
   },
   "file_extension": ".py",
   "mimetype": "text/x-python",
   "name": "python",
   "nbconvert_exporter": "python",
   "pygments_lexer": "ipython3",
   "version": "3.10.9"
  },
  "orig_nbformat": 4
 },
 "nbformat": 4,
 "nbformat_minor": 2
}
