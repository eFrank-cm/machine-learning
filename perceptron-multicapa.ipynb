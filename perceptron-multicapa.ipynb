{
 "cells": [
  {
   "cell_type": "code",
   "execution_count": 1,
   "metadata": {},
   "outputs": [],
   "source": [
    "import numpy as np\n",
    "np.random.seed(42)"
   ]
  },
  {
   "attachments": {},
   "cell_type": "markdown",
   "metadata": {},
   "source": [
    "dataset"
   ]
  },
  {
   "cell_type": "code",
   "execution_count": 2,
   "metadata": {},
   "outputs": [],
   "source": [
    "# XOR:\n",
    "xor_gate = np.array([[0, 0, 0], [0, 1, 1], [1, 0, 1], [1, 1, 0]])\n",
    "\n",
    "# IRIS 3 especies\n",
    "# columnas = [largo de sepalo, ancho de petalo] 0=setosa , 1=versicolor, 2 = virginica\n",
    "iris = np.array([[4.7, 0.2, 0], [4.6, 0.2, 0], [7, 1.4, 1], [6.4, 1.5, 1], [6.3, 1.8, 2], [6.5, 2.2, 2]])\n",
    "\n",
    "# creamos una entrada aleatoria\n",
    "X = np.array([[7], [1.4]])\n",
    "Y = np.array([[0], [1], [0]])"
   ]
  },
  {
   "attachments": {},
   "cell_type": "markdown",
   "metadata": {},
   "source": [
    "funciones"
   ]
  },
  {
   "cell_type": "code",
   "execution_count": 3,
   "metadata": {},
   "outputs": [],
   "source": [
    "def sigmoid(x, derived=False):\n",
    "  if derived:\n",
    "    return sigmoid(x)*(1 - sigmoid(x))\n",
    "  else:\n",
    "    return 1/(1+np.exp(-x))\n",
    "\n",
    "def MSE(y_true, y_pred, derived=False):\n",
    "  if derived:\n",
    "    return y_pred - y_true\n",
    "  else:\n",
    "    return np.square(y_true - y_pred).sum()/2"
   ]
  },
  {
   "attachments": {},
   "cell_type": "markdown",
   "metadata": {},
   "source": [
    "Perceptron multicapa"
   ]
  },
  {
   "cell_type": "code",
   "execution_count": 4,
   "metadata": {},
   "outputs": [],
   "source": [
    "# tamaño de las capas\n",
    "n_input, n_hidden, n_out = 2, 3, 3\n",
    "\n",
    "# coeficiente de aprendizaje\n",
    "alfa = 0.25\n",
    "\n",
    "# inicializar pesos random dentro del rango de una distribucion normal\n",
    "mean, stdev = 0, 0.1 # media, desviacion estandar\n",
    "w_hidden = np.array([[0.1, 0.8], [0.7, 0.9], [0.5, 0.3]])\n",
    "w_out = np.array([[0.3, 0.7, 0.5], [0.5, 0.1, 0.5], [0.2, 0.8, 0.9]])\n",
    "\n",
    "# guardar error\n",
    "error = []"
   ]
  },
  {
   "attachments": {},
   "cell_type": "markdown",
   "metadata": {},
   "source": [
    "Propagar"
   ]
  },
  {
   "cell_type": "code",
   "execution_count": 5,
   "metadata": {},
   "outputs": [
    {
     "data": {
      "text/plain": [
       "array([[0.86056613],\n",
       "       [0.9978922 ],\n",
       "       [0.98054492]])"
      ]
     },
     "execution_count": 5,
     "metadata": {},
     "output_type": "execute_result"
    }
   ],
   "source": [
    "# operar en la capa oculta\n",
    "sum_hidden = w_hidden.dot(X)\n",
    "out_hidden = sigmoid(sum_hidden)\n",
    "out_hidden"
   ]
  },
  {
   "cell_type": "code",
   "execution_count": 6,
   "metadata": {},
   "outputs": [
    {
     "data": {
      "text/plain": [
       "array([[0.80953119],\n",
       "       [0.73503975],\n",
       "       [0.86446928]])"
      ]
     },
     "execution_count": 6,
     "metadata": {},
     "output_type": "execute_result"
    }
   ],
   "source": [
    "# operar en la capa de salida\n",
    "sum_out = w_out.dot(out_hidden)\n",
    "out_out = sigmoid(sum_out)\n",
    "out_out"
   ]
  },
  {
   "attachments": {},
   "cell_type": "markdown",
   "metadata": {},
   "source": [
    "Calcular el ERROR de la red neuronal"
   ]
  },
  {
   "cell_type": "code",
   "execution_count": 7,
   "metadata": {},
   "outputs": [],
   "source": [
    "error.append(MSE(Y, out_out))"
   ]
  },
  {
   "attachments": {},
   "cell_type": "markdown",
   "metadata": {},
   "source": [
    "Retropropagamos"
   ]
  },
  {
   "cell_type": "code",
   "execution_count": 8,
   "metadata": {},
   "outputs": [
    {
     "name": "stdout",
     "output_type": "stream",
     "text": [
      "[[ 0.12482197]\n",
      " [-0.05160268]\n",
      " [ 0.10128308]]\n"
     ]
    },
    {
     "data": {
      "text/plain": [
       "array([[0.27314561, 0.66886028, 0.46940161],\n",
       "       [0.51110188, 0.11287348, 0.51264969],\n",
       "       [0.1782098 , 0.7747326 , 0.87517185]])"
      ]
     },
     "execution_count": 8,
     "metadata": {},
     "output_type": "execute_result"
    }
   ],
   "source": [
    "# operamos en la capa de salida OUT\n",
    "\n",
    "# calculamos el error inputado a cada neurona\n",
    "dC_da_out = MSE(Y, out_out, derived=True)\n",
    "dA_dz_out = sigmoid(sum_out, derived=True)\n",
    "delta_out = dC_da_out * dA_dz_out\n",
    "print(delta_out)\n",
    "\n",
    "# calculamos el error inputado a cada parametro\n",
    "dZ_dw_out = out_hidden\n",
    "dC_dw_out = delta_out.dot(dZ_dw_out.T)\n",
    "\n",
    "# actualizamos el valor de los pesos\n",
    "w_out_new = w_out - alfa * dC_dw_out\n",
    "w_out_new"
   ]
  },
  {
   "cell_type": "code",
   "execution_count": 9,
   "metadata": {},
   "outputs": [
    {
     "name": "stdout",
     "output_type": "stream",
     "text": [
      "[[0.00623554]\n",
      " [0.00022694]\n",
      " [0.00142763]]\n"
     ]
    },
    {
     "data": {
      "text/plain": [
       "array([[0.08908781, 0.79781756],\n",
       "       [0.69960286, 0.89992057],\n",
       "       [0.49750164, 0.29950033]])"
      ]
     },
     "execution_count": 9,
     "metadata": {},
     "output_type": "execute_result"
    }
   ],
   "source": [
    "# operamos en la capa oculta HIDDEN\n",
    "\n",
    "# retropropagamos el error calculado en la capa de salida\n",
    "delta_hidden = w_out.dot(delta_out) * sigmoid(sum_hidden, derived=True)\n",
    "print(delta_hidden)\n",
    "\n",
    "# calculamos el error inputado a cada parametro\n",
    "dZ_dw_hidden = X\n",
    "dC_dw_hidden = delta_hidden.dot(dZ_dw_hidden.T)\n",
    "\n",
    "# # actualizamos el valor de los pesos\n",
    "w_hidden_new = w_hidden - alfa * dC_dw_hidden\n",
    "w_hidden_new"
   ]
  },
  {
   "attachments": {},
   "cell_type": "markdown",
   "metadata": {},
   "source": [
    "PROPAGAR y Calcular ERROR"
   ]
  },
  {
   "cell_type": "code",
   "execution_count": 10,
   "metadata": {},
   "outputs": [
    {
     "name": "stdout",
     "output_type": "stream",
     "text": [
      "[[0.79574869]\n",
      " [0.74076636]\n",
      " [0.85601112]]\n"
     ]
    }
   ],
   "source": [
    "# operar en la capa oculta\n",
    "sum_hidden_new = w_hidden_new.dot(X)\n",
    "out_hidden_new = sigmoid(sum_hidden_new)\n",
    "\n",
    "# operar en la capa de salida\n",
    "sum_out_new = w_out_new.dot(out_hidden_new)\n",
    "out_out_new = sigmoid(sum_out_new)\n",
    "print(out_out_new)\n",
    "\n",
    "# calcular error\n",
    "error.append(MSE(Y, out_out_new))"
   ]
  },
  {
   "cell_type": "code",
   "execution_count": 12,
   "metadata": {},
   "outputs": [
    {
     "data": {
      "text/plain": [
       "[0.7364259053437099, 0.7165865513801564]"
      ]
     },
     "execution_count": 12,
     "metadata": {},
     "output_type": "execute_result"
    }
   ],
   "source": [
    "# el error disminuye\n",
    "error"
   ]
  }
 ],
 "metadata": {
  "kernelspec": {
   "display_name": "Python 3",
   "language": "python",
   "name": "python3"
  },
  "language_info": {
   "codemirror_mode": {
    "name": "ipython",
    "version": 3
   },
   "file_extension": ".py",
   "mimetype": "text/x-python",
   "name": "python",
   "nbconvert_exporter": "python",
   "pygments_lexer": "ipython3",
   "version": "3.10.9"
  },
  "orig_nbformat": 4
 },
 "nbformat": 4,
 "nbformat_minor": 2
}
